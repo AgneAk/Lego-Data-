{
 "cells": [
  {
   "cell_type": "code",
   "execution_count": 1,
   "id": "081ac098",
   "metadata": {},
   "outputs": [],
   "source": [
    "import pandas as pd\n",
    "\n",
    "import numpy as np\n",
    "\n",
    "import seaborn as sns\n",
    "\n",
    "import matplotlib.pyplot as plt"
   ]
  },
  {
   "cell_type": "code",
   "execution_count": 2,
   "id": "a9340d3c",
   "metadata": {},
   "outputs": [],
   "source": [
    "US_data = pd.read_csv('US_data.csv')"
   ]
  },
  {
   "cell_type": "code",
   "execution_count": 3,
   "id": "bbd1e6b5",
   "metadata": {},
   "outputs": [],
   "source": [
    "from sklearn.model_selection import train_test_split"
   ]
  },
  {
   "cell_type": "code",
   "execution_count": 4,
   "id": "3a8c589c",
   "metadata": {},
   "outputs": [],
   "source": [
    "X= US_data.drop(columns=['price_per_piece','prod_id', 'max_age', 'piece_count', 'list_price'], axis=1)\n",
    "\n",
    "y = US_data['price_per_piece']"
   ]
  },
  {
   "cell_type": "code",
   "execution_count": 5,
   "id": "5a6244f0",
   "metadata": {},
   "outputs": [
    {
     "data": {
      "text/html": [
       "<div>\n",
       "<style scoped>\n",
       "    .dataframe tbody tr th:only-of-type {\n",
       "        vertical-align: middle;\n",
       "    }\n",
       "\n",
       "    .dataframe tbody tr th {\n",
       "        vertical-align: top;\n",
       "    }\n",
       "\n",
       "    .dataframe thead th {\n",
       "        text-align: right;\n",
       "    }\n",
       "</style>\n",
       "<table border=\"1\" class=\"dataframe\">\n",
       "  <thead>\n",
       "    <tr style=\"text-align: right;\">\n",
       "      <th></th>\n",
       "      <th>min_age</th>\n",
       "      <th>avg_age</th>\n",
       "      <th>theme_name_Angry Birds™</th>\n",
       "      <th>theme_name_Architecture</th>\n",
       "      <th>theme_name_BOOST</th>\n",
       "      <th>theme_name_BrickHeadz</th>\n",
       "      <th>theme_name_City</th>\n",
       "      <th>theme_name_Classic</th>\n",
       "      <th>theme_name_Creator 3-in-1</th>\n",
       "      <th>theme_name_Creator Expert</th>\n",
       "      <th>...</th>\n",
       "      <th>theme_name_NEXO KNIGHTS™</th>\n",
       "      <th>theme_name_NINJAGO®</th>\n",
       "      <th>theme_name_Power Functions</th>\n",
       "      <th>theme_name_Pteranodon Chase</th>\n",
       "      <th>theme_name_Speed Champions</th>\n",
       "      <th>theme_name_Star Wars™</th>\n",
       "      <th>theme_name_Stygimoloch Breakout</th>\n",
       "      <th>theme_name_THE LEGO® BATMAN MOVIE</th>\n",
       "      <th>theme_name_THE LEGO® NINJAGO® MOVIE™</th>\n",
       "      <th>theme_name_Technic</th>\n",
       "    </tr>\n",
       "  </thead>\n",
       "  <tbody>\n",
       "    <tr>\n",
       "      <th>0</th>\n",
       "      <td>6.0</td>\n",
       "      <td>9.0</td>\n",
       "      <td>1</td>\n",
       "      <td>0</td>\n",
       "      <td>0</td>\n",
       "      <td>0</td>\n",
       "      <td>0</td>\n",
       "      <td>0</td>\n",
       "      <td>0</td>\n",
       "      <td>0</td>\n",
       "      <td>...</td>\n",
       "      <td>0</td>\n",
       "      <td>0</td>\n",
       "      <td>0</td>\n",
       "      <td>0</td>\n",
       "      <td>0</td>\n",
       "      <td>0</td>\n",
       "      <td>0</td>\n",
       "      <td>0</td>\n",
       "      <td>0</td>\n",
       "      <td>0</td>\n",
       "    </tr>\n",
       "    <tr>\n",
       "      <th>1</th>\n",
       "      <td>6.0</td>\n",
       "      <td>9.0</td>\n",
       "      <td>1</td>\n",
       "      <td>0</td>\n",
       "      <td>0</td>\n",
       "      <td>0</td>\n",
       "      <td>0</td>\n",
       "      <td>0</td>\n",
       "      <td>0</td>\n",
       "      <td>0</td>\n",
       "      <td>...</td>\n",
       "      <td>0</td>\n",
       "      <td>0</td>\n",
       "      <td>0</td>\n",
       "      <td>0</td>\n",
       "      <td>0</td>\n",
       "      <td>0</td>\n",
       "      <td>0</td>\n",
       "      <td>0</td>\n",
       "      <td>0</td>\n",
       "      <td>0</td>\n",
       "    </tr>\n",
       "    <tr>\n",
       "      <th>2</th>\n",
       "      <td>6.0</td>\n",
       "      <td>9.0</td>\n",
       "      <td>1</td>\n",
       "      <td>0</td>\n",
       "      <td>0</td>\n",
       "      <td>0</td>\n",
       "      <td>0</td>\n",
       "      <td>0</td>\n",
       "      <td>0</td>\n",
       "      <td>0</td>\n",
       "      <td>...</td>\n",
       "      <td>0</td>\n",
       "      <td>0</td>\n",
       "      <td>0</td>\n",
       "      <td>0</td>\n",
       "      <td>0</td>\n",
       "      <td>0</td>\n",
       "      <td>0</td>\n",
       "      <td>0</td>\n",
       "      <td>0</td>\n",
       "      <td>0</td>\n",
       "    </tr>\n",
       "    <tr>\n",
       "      <th>3</th>\n",
       "      <td>12.0</td>\n",
       "      <td>55.5</td>\n",
       "      <td>0</td>\n",
       "      <td>1</td>\n",
       "      <td>0</td>\n",
       "      <td>0</td>\n",
       "      <td>0</td>\n",
       "      <td>0</td>\n",
       "      <td>0</td>\n",
       "      <td>0</td>\n",
       "      <td>...</td>\n",
       "      <td>0</td>\n",
       "      <td>0</td>\n",
       "      <td>0</td>\n",
       "      <td>0</td>\n",
       "      <td>0</td>\n",
       "      <td>0</td>\n",
       "      <td>0</td>\n",
       "      <td>0</td>\n",
       "      <td>0</td>\n",
       "      <td>0</td>\n",
       "    </tr>\n",
       "    <tr>\n",
       "      <th>4</th>\n",
       "      <td>12.0</td>\n",
       "      <td>55.5</td>\n",
       "      <td>0</td>\n",
       "      <td>1</td>\n",
       "      <td>0</td>\n",
       "      <td>0</td>\n",
       "      <td>0</td>\n",
       "      <td>0</td>\n",
       "      <td>0</td>\n",
       "      <td>0</td>\n",
       "      <td>...</td>\n",
       "      <td>0</td>\n",
       "      <td>0</td>\n",
       "      <td>0</td>\n",
       "      <td>0</td>\n",
       "      <td>0</td>\n",
       "      <td>0</td>\n",
       "      <td>0</td>\n",
       "      <td>0</td>\n",
       "      <td>0</td>\n",
       "      <td>0</td>\n",
       "    </tr>\n",
       "    <tr>\n",
       "      <th>...</th>\n",
       "      <td>...</td>\n",
       "      <td>...</td>\n",
       "      <td>...</td>\n",
       "      <td>...</td>\n",
       "      <td>...</td>\n",
       "      <td>...</td>\n",
       "      <td>...</td>\n",
       "      <td>...</td>\n",
       "      <td>...</td>\n",
       "      <td>...</td>\n",
       "      <td>...</td>\n",
       "      <td>...</td>\n",
       "      <td>...</td>\n",
       "      <td>...</td>\n",
       "      <td>...</td>\n",
       "      <td>...</td>\n",
       "      <td>...</td>\n",
       "      <td>...</td>\n",
       "      <td>...</td>\n",
       "      <td>...</td>\n",
       "      <td>...</td>\n",
       "    </tr>\n",
       "    <tr>\n",
       "      <th>666</th>\n",
       "      <td>6.0</td>\n",
       "      <td>10.0</td>\n",
       "      <td>0</td>\n",
       "      <td>0</td>\n",
       "      <td>0</td>\n",
       "      <td>0</td>\n",
       "      <td>0</td>\n",
       "      <td>0</td>\n",
       "      <td>0</td>\n",
       "      <td>0</td>\n",
       "      <td>...</td>\n",
       "      <td>0</td>\n",
       "      <td>0</td>\n",
       "      <td>0</td>\n",
       "      <td>0</td>\n",
       "      <td>0</td>\n",
       "      <td>0</td>\n",
       "      <td>0</td>\n",
       "      <td>0</td>\n",
       "      <td>1</td>\n",
       "      <td>0</td>\n",
       "    </tr>\n",
       "    <tr>\n",
       "      <th>667</th>\n",
       "      <td>6.0</td>\n",
       "      <td>10.0</td>\n",
       "      <td>0</td>\n",
       "      <td>0</td>\n",
       "      <td>0</td>\n",
       "      <td>0</td>\n",
       "      <td>0</td>\n",
       "      <td>0</td>\n",
       "      <td>0</td>\n",
       "      <td>0</td>\n",
       "      <td>...</td>\n",
       "      <td>0</td>\n",
       "      <td>0</td>\n",
       "      <td>0</td>\n",
       "      <td>0</td>\n",
       "      <td>0</td>\n",
       "      <td>0</td>\n",
       "      <td>0</td>\n",
       "      <td>0</td>\n",
       "      <td>1</td>\n",
       "      <td>0</td>\n",
       "    </tr>\n",
       "    <tr>\n",
       "      <th>668</th>\n",
       "      <td>10.0</td>\n",
       "      <td>54.5</td>\n",
       "      <td>0</td>\n",
       "      <td>0</td>\n",
       "      <td>0</td>\n",
       "      <td>1</td>\n",
       "      <td>0</td>\n",
       "      <td>0</td>\n",
       "      <td>0</td>\n",
       "      <td>0</td>\n",
       "      <td>...</td>\n",
       "      <td>0</td>\n",
       "      <td>0</td>\n",
       "      <td>0</td>\n",
       "      <td>0</td>\n",
       "      <td>0</td>\n",
       "      <td>0</td>\n",
       "      <td>0</td>\n",
       "      <td>0</td>\n",
       "      <td>0</td>\n",
       "      <td>0</td>\n",
       "    </tr>\n",
       "    <tr>\n",
       "      <th>669</th>\n",
       "      <td>10.0</td>\n",
       "      <td>54.5</td>\n",
       "      <td>0</td>\n",
       "      <td>0</td>\n",
       "      <td>0</td>\n",
       "      <td>1</td>\n",
       "      <td>0</td>\n",
       "      <td>0</td>\n",
       "      <td>0</td>\n",
       "      <td>0</td>\n",
       "      <td>...</td>\n",
       "      <td>0</td>\n",
       "      <td>0</td>\n",
       "      <td>0</td>\n",
       "      <td>0</td>\n",
       "      <td>0</td>\n",
       "      <td>0</td>\n",
       "      <td>0</td>\n",
       "      <td>0</td>\n",
       "      <td>0</td>\n",
       "      <td>0</td>\n",
       "    </tr>\n",
       "    <tr>\n",
       "      <th>670</th>\n",
       "      <td>5.0</td>\n",
       "      <td>52.0</td>\n",
       "      <td>0</td>\n",
       "      <td>0</td>\n",
       "      <td>0</td>\n",
       "      <td>0</td>\n",
       "      <td>0</td>\n",
       "      <td>0</td>\n",
       "      <td>0</td>\n",
       "      <td>0</td>\n",
       "      <td>...</td>\n",
       "      <td>0</td>\n",
       "      <td>0</td>\n",
       "      <td>0</td>\n",
       "      <td>0</td>\n",
       "      <td>0</td>\n",
       "      <td>0</td>\n",
       "      <td>0</td>\n",
       "      <td>0</td>\n",
       "      <td>0</td>\n",
       "      <td>0</td>\n",
       "    </tr>\n",
       "  </tbody>\n",
       "</table>\n",
       "<p>671 rows × 37 columns</p>\n",
       "</div>"
      ],
      "text/plain": [
       "     min_age  avg_age  theme_name_Angry Birds™  theme_name_Architecture  \\\n",
       "0        6.0      9.0                        1                        0   \n",
       "1        6.0      9.0                        1                        0   \n",
       "2        6.0      9.0                        1                        0   \n",
       "3       12.0     55.5                        0                        1   \n",
       "4       12.0     55.5                        0                        1   \n",
       "..       ...      ...                      ...                      ...   \n",
       "666      6.0     10.0                        0                        0   \n",
       "667      6.0     10.0                        0                        0   \n",
       "668     10.0     54.5                        0                        0   \n",
       "669     10.0     54.5                        0                        0   \n",
       "670      5.0     52.0                        0                        0   \n",
       "\n",
       "     theme_name_BOOST  theme_name_BrickHeadz  theme_name_City  \\\n",
       "0                   0                      0                0   \n",
       "1                   0                      0                0   \n",
       "2                   0                      0                0   \n",
       "3                   0                      0                0   \n",
       "4                   0                      0                0   \n",
       "..                ...                    ...              ...   \n",
       "666                 0                      0                0   \n",
       "667                 0                      0                0   \n",
       "668                 0                      1                0   \n",
       "669                 0                      1                0   \n",
       "670                 0                      0                0   \n",
       "\n",
       "     theme_name_Classic  theme_name_Creator 3-in-1  theme_name_Creator Expert  \\\n",
       "0                     0                          0                          0   \n",
       "1                     0                          0                          0   \n",
       "2                     0                          0                          0   \n",
       "3                     0                          0                          0   \n",
       "4                     0                          0                          0   \n",
       "..                  ...                        ...                        ...   \n",
       "666                   0                          0                          0   \n",
       "667                   0                          0                          0   \n",
       "668                   0                          0                          0   \n",
       "669                   0                          0                          0   \n",
       "670                   0                          0                          0   \n",
       "\n",
       "     ...  theme_name_NEXO KNIGHTS™  theme_name_NINJAGO®  \\\n",
       "0    ...                         0                    0   \n",
       "1    ...                         0                    0   \n",
       "2    ...                         0                    0   \n",
       "3    ...                         0                    0   \n",
       "4    ...                         0                    0   \n",
       "..   ...                       ...                  ...   \n",
       "666  ...                         0                    0   \n",
       "667  ...                         0                    0   \n",
       "668  ...                         0                    0   \n",
       "669  ...                         0                    0   \n",
       "670  ...                         0                    0   \n",
       "\n",
       "     theme_name_Power Functions  theme_name_Pteranodon Chase  \\\n",
       "0                             0                            0   \n",
       "1                             0                            0   \n",
       "2                             0                            0   \n",
       "3                             0                            0   \n",
       "4                             0                            0   \n",
       "..                          ...                          ...   \n",
       "666                           0                            0   \n",
       "667                           0                            0   \n",
       "668                           0                            0   \n",
       "669                           0                            0   \n",
       "670                           0                            0   \n",
       "\n",
       "     theme_name_Speed Champions  theme_name_Star Wars™  \\\n",
       "0                             0                      0   \n",
       "1                             0                      0   \n",
       "2                             0                      0   \n",
       "3                             0                      0   \n",
       "4                             0                      0   \n",
       "..                          ...                    ...   \n",
       "666                           0                      0   \n",
       "667                           0                      0   \n",
       "668                           0                      0   \n",
       "669                           0                      0   \n",
       "670                           0                      0   \n",
       "\n",
       "     theme_name_Stygimoloch Breakout  theme_name_THE LEGO® BATMAN MOVIE  \\\n",
       "0                                  0                                  0   \n",
       "1                                  0                                  0   \n",
       "2                                  0                                  0   \n",
       "3                                  0                                  0   \n",
       "4                                  0                                  0   \n",
       "..                               ...                                ...   \n",
       "666                                0                                  0   \n",
       "667                                0                                  0   \n",
       "668                                0                                  0   \n",
       "669                                0                                  0   \n",
       "670                                0                                  0   \n",
       "\n",
       "     theme_name_THE LEGO® NINJAGO® MOVIE™  theme_name_Technic  \n",
       "0                                       0                   0  \n",
       "1                                       0                   0  \n",
       "2                                       0                   0  \n",
       "3                                       0                   0  \n",
       "4                                       0                   0  \n",
       "..                                    ...                 ...  \n",
       "666                                     1                   0  \n",
       "667                                     1                   0  \n",
       "668                                     0                   0  \n",
       "669                                     0                   0  \n",
       "670                                     0                   0  \n",
       "\n",
       "[671 rows x 37 columns]"
      ]
     },
     "execution_count": 5,
     "metadata": {},
     "output_type": "execute_result"
    }
   ],
   "source": [
    "X"
   ]
  },
  {
   "cell_type": "code",
   "execution_count": 6,
   "id": "c11c4315",
   "metadata": {},
   "outputs": [
    {
     "data": {
      "text/plain": [
       "0      0.108267\n",
       "1      0.118988\n",
       "2      0.175541\n",
       "3      0.096890\n",
       "4      0.107513\n",
       "         ...   \n",
       "666    0.208125\n",
       "667    0.091651\n",
       "668    0.097941\n",
       "669    0.112247\n",
       "670    0.498750\n",
       "Name: price_per_piece, Length: 671, dtype: float64"
      ]
     },
     "execution_count": 6,
     "metadata": {},
     "output_type": "execute_result"
    }
   ],
   "source": [
    "y"
   ]
  },
  {
   "cell_type": "code",
   "execution_count": 7,
   "id": "f1009031",
   "metadata": {},
   "outputs": [],
   "source": [
    "X_train, X_test, y_train, y_test = train_test_split( X, y, test_size=0.2)"
   ]
  },
  {
   "cell_type": "code",
   "execution_count": 8,
   "id": "e900f223",
   "metadata": {},
   "outputs": [
    {
     "name": "stdout",
     "output_type": "stream",
     "text": [
      "536\n",
      "135\n"
     ]
    }
   ],
   "source": [
    "print(len(X_train))\n",
    "print(len(X_test))"
   ]
  },
  {
   "cell_type": "markdown",
   "id": "c7b78cd4",
   "metadata": {},
   "source": [
    "# Modelling"
   ]
  },
  {
   "cell_type": "code",
   "execution_count": 9,
   "id": "4b618c79",
   "metadata": {},
   "outputs": [],
   "source": [
    "from sklearn.model_selection import cross_val_score\n",
    "\n",
    "from sklearn.preprocessing import MinMaxScaler\n",
    "\n",
    "from sklearn.metrics import accuracy_score"
   ]
  },
  {
   "cell_type": "markdown",
   "id": "386279a3",
   "metadata": {},
   "source": [
    "# Random Forest Regressor"
   ]
  },
  {
   "cell_type": "code",
   "execution_count": 10,
   "id": "ecd103c2",
   "metadata": {},
   "outputs": [],
   "source": [
    "from sklearn.ensemble import RandomForestRegressor\n",
    "\n",
    "from sklearn.metrics import r2_score\n"
   ]
  },
  {
   "cell_type": "code",
   "execution_count": 11,
   "id": "27f60048",
   "metadata": {},
   "outputs": [],
   "source": [
    "rf = RandomForestRegressor()\n",
    "rf.fit(X_train, y_train)\n",
    "y_pred_rf= rf.predict((X_test))"
   ]
  },
  {
   "cell_type": "code",
   "execution_count": 12,
   "id": "9973ea82",
   "metadata": {},
   "outputs": [
    {
     "name": "stdout",
     "output_type": "stream",
     "text": [
      "0.12894276778528957\n"
     ]
    }
   ],
   "source": [
    "r2 = r2_score(y_test, y_pred_rf)\n",
    "print(r2)"
   ]
  },
  {
   "cell_type": "markdown",
   "id": "8fde72e0",
   "metadata": {},
   "source": [
    "r2 was negative prior to removing avg_age, min_age, max_age columns.\n",
    "\"In practice, R2 will be negative whenever your model’s predictions are worse than a constant function that always predicts the mean of the data.\""
   ]
  },
  {
   "cell_type": "code",
   "execution_count": 13,
   "id": "84da5980",
   "metadata": {},
   "outputs": [
    {
     "data": {
      "text/plain": [
       "array([4.36285893e-02, 2.64199638e-01, 1.93200090e-06, 9.21315323e-06,\n",
       "       1.78026347e-04, 2.87276604e-05, 7.29910067e-02, 1.87744806e-05,\n",
       "       2.00045802e-04, 5.33700495e-05, 4.42190470e-03, 4.63716975e-05,\n",
       "       1.16983627e-02, 2.60569650e-01, 2.18077940e-05, 9.05587044e-03,\n",
       "       4.04798352e-05, 7.54748652e-03, 4.17407819e-06, 6.45473162e-05,\n",
       "       1.28452412e-05, 3.17539054e-02, 8.03159594e-07, 8.13998366e-03,\n",
       "       8.86607796e-03, 3.55454743e-04, 2.11873060e-02, 9.19589182e-04,\n",
       "       6.63661486e-05, 2.49275359e-01, 6.86080877e-05, 1.44095409e-04,\n",
       "       3.45384053e-03, 0.00000000e+00, 2.64768902e-04, 3.37689837e-04,\n",
       "       3.73327594e-04])"
      ]
     },
     "execution_count": 13,
     "metadata": {},
     "output_type": "execute_result"
    }
   ],
   "source": [
    "rf.feature_importances_"
   ]
  },
  {
   "cell_type": "code",
   "execution_count": 14,
   "id": "ecca3452",
   "metadata": {},
   "outputs": [
    {
     "data": {
      "text/plain": [
       "Text(0.5, 1.0, 'Features Importance: Random Forest Regressor')"
      ]
     },
     "execution_count": 14,
     "metadata": {},
     "output_type": "execute_result"
    },
    {
     "data": {
      "image/png": "[encoded data removed]",
      "text/plain": [
       "<Figure size 576x1080 with 1 Axes>"
      ]
     },
     "metadata": {
      "needs_background": "light"
     },
     "output_type": "display_data"
    }
   ],
   "source": [
    "plt.figure(figsize=(8,15))\n",
    "\n",
    "plt.barh(X_train.columns, rf.feature_importances_)\n",
    "plt.title('Features Importance: Random Forest Regressor')"
   ]
  },
  {
   "cell_type": "code",
   "execution_count": 20,
   "id": "2a43887c",
   "metadata": {},
   "outputs": [
    {
     "data": {
      "text/plain": [
       "Text(0, 0.5, 'Predicted Values')"
      ]
     },
     "execution_count": 20,
     "metadata": {},
     "output_type": "execute_result"
    },
    {
     "data": {
      "image/png": "[encoded data removed]",
      "text/plain": [
       "<Figure size 432x288 with 1 Axes>"
      ]
     },
     "metadata": {
      "needs_background": "light"
     },
     "output_type": "display_data"
    }
   ],
   "source": [
    "plt.scatter(y_test, y_pred_rf)\n",
    "plt.title('Actual vs Predicted Values. Randorm Forest Regressor. US Data')\n",
    "plt.xlabel(\"Actual Values\")\n",
    "plt.ylabel(\"Predicted Values\")"
   ]
  },
  {
   "cell_type": "code",
   "execution_count": 16,
   "id": "a7b2d261",
   "metadata": {},
   "outputs": [
    {
     "name": "stderr",
     "output_type": "stream",
     "text": [
      "/Users/baytech11/opt/anaconda3/lib/python3.9/site-packages/seaborn/distributions.py:2619: FutureWarning: `distplot` is a deprecated function and will be removed in a future version. Please adapt your code to use either `displot` (a figure-level function with similar flexibility) or `histplot` (an axes-level function for histograms).\n",
      "  warnings.warn(msg, FutureWarning)\n"
     ]
    },
    {
     "data": {
      "image/png": "[encoded data removed]",
      "text/plain": [
       "<Figure size 432x288 with 1 Axes>"
      ]
     },
     "metadata": {
      "needs_background": "light"
     },
     "output_type": "display_data"
    }
   ],
   "source": [
    "sns.distplot((y_test-y_pred_rf), bins=50);"
   ]
  },
  {
   "cell_type": "markdown",
   "id": "0aaa0d90",
   "metadata": {},
   "source": [
    "Data is underfitting"
   ]
  },
  {
   "cell_type": "code",
   "execution_count": null,
   "id": "7c66a33f",
   "metadata": {},
   "outputs": [],
   "source": []
  },
  {
   "cell_type": "code",
   "execution_count": 17,
   "id": "56bee8bd",
   "metadata": {},
   "outputs": [],
   "source": [
    "from sklearn.linear_model import LinearRegression\n",
    "from sklearn.preprocessing import PolynomialFeatures"
   ]
  }
 ],
 "metadata": {
  "kernelspec": {
   "display_name": "Python 3 (ipykernel)",
   "language": "python",
   "name": "python3"
  },
  "language_info": {
   "codemirror_mode": {
    "name": "ipython",
    "version": 3
   },
   "file_extension": ".py",
   "mimetype": "text/x-python",
   "name": "python",
   "nbconvert_exporter": "python",
   "pygments_lexer": "ipython3",
   "version": "3.9.7"
  }
 },
 "nbformat": 4,
 "nbformat_minor": 5
}
