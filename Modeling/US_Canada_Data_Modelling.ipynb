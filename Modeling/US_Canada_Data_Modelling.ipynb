{
 "cells": [
  {
   "cell_type": "code",
   "execution_count": 1,
   "id": "081ac098",
   "metadata": {},
   "outputs": [],
   "source": [
    "import pandas as pd\n",
    "\n",
    "import numpy as np\n",
    "\n",
    "import seaborn as sns\n",
    "\n",
    "import matplotlib.pyplot as plt"
   ]
  },
  {
   "cell_type": "code",
   "execution_count": 2,
   "id": "a9340d3c",
   "metadata": {},
   "outputs": [],
   "source": [
    "legoset = pd.read_csv('legoset.csv') "
   ]
  },
  {
   "cell_type": "code",
   "execution_count": 3,
   "id": "a5f80685",
   "metadata": {},
   "outputs": [],
   "source": [
    "US_data = legoset[(legoset.country=='US') | (legoset.country=='CA')]"
   ]
  },
  {
   "cell_type": "code",
   "execution_count": 4,
   "id": "519a9ef1",
   "metadata": {},
   "outputs": [
    {
     "data": {
      "text/html": [
       "<div>\n",
       "<style scoped>\n",
       "    .dataframe tbody tr th:only-of-type {\n",
       "        vertical-align: middle;\n",
       "    }\n",
       "\n",
       "    .dataframe tbody tr th {\n",
       "        vertical-align: top;\n",
       "    }\n",
       "\n",
       "    .dataframe thead th {\n",
       "        text-align: right;\n",
       "    }\n",
       "</style>\n",
       "<table border=\"1\" class=\"dataframe\">\n",
       "  <thead>\n",
       "    <tr style=\"text-align: right;\">\n",
       "      <th></th>\n",
       "      <th>ages</th>\n",
       "      <th>list_price</th>\n",
       "      <th>num_reviews</th>\n",
       "      <th>piece_count</th>\n",
       "      <th>play_star_rating</th>\n",
       "      <th>prod_desc</th>\n",
       "      <th>prod_id</th>\n",
       "      <th>prod_long_desc</th>\n",
       "      <th>review_difficulty</th>\n",
       "      <th>set_name</th>\n",
       "      <th>star_rating</th>\n",
       "      <th>theme_name</th>\n",
       "      <th>val_star_rating</th>\n",
       "      <th>country</th>\n",
       "      <th>min_age</th>\n",
       "      <th>max_age</th>\n",
       "      <th>avg_age</th>\n",
       "      <th>price_per_piece</th>\n",
       "    </tr>\n",
       "  </thead>\n",
       "  <tbody>\n",
       "    <tr>\n",
       "      <th>0</th>\n",
       "      <td>6-12</td>\n",
       "      <td>29.99</td>\n",
       "      <td>2.0</td>\n",
       "      <td>277.0</td>\n",
       "      <td>4.0</td>\n",
       "      <td>Catapult into action and take back the eggs fr...</td>\n",
       "      <td>75823.0</td>\n",
       "      <td>Use the staircase catapult to launch Red into ...</td>\n",
       "      <td>3</td>\n",
       "      <td>Bird Island Egg Heist</td>\n",
       "      <td>4.5</td>\n",
       "      <td>Angry Birds™</td>\n",
       "      <td>4.0</td>\n",
       "      <td>US</td>\n",
       "      <td>6.0</td>\n",
       "      <td>12.0</td>\n",
       "      <td>9.0</td>\n",
       "      <td>0.108267</td>\n",
       "    </tr>\n",
       "    <tr>\n",
       "      <th>1</th>\n",
       "      <td>6-12</td>\n",
       "      <td>19.99</td>\n",
       "      <td>2.0</td>\n",
       "      <td>168.0</td>\n",
       "      <td>4.0</td>\n",
       "      <td>Launch a flying attack and rescue the eggs fro...</td>\n",
       "      <td>75822.0</td>\n",
       "      <td>Pilot Pig has taken off from Bird Island with ...</td>\n",
       "      <td>2</td>\n",
       "      <td>Piggy Plane Attack</td>\n",
       "      <td>5.0</td>\n",
       "      <td>Angry Birds™</td>\n",
       "      <td>4.0</td>\n",
       "      <td>US</td>\n",
       "      <td>6.0</td>\n",
       "      <td>12.0</td>\n",
       "      <td>9.0</td>\n",
       "      <td>0.118988</td>\n",
       "    </tr>\n",
       "    <tr>\n",
       "      <th>2</th>\n",
       "      <td>6-12</td>\n",
       "      <td>12.99</td>\n",
       "      <td>11.0</td>\n",
       "      <td>74.0</td>\n",
       "      <td>4.3</td>\n",
       "      <td>Chase the piggy with lightning-fast Chuck and ...</td>\n",
       "      <td>75821.0</td>\n",
       "      <td>Pitch speedy bird Chuck against the Piggy Car....</td>\n",
       "      <td>2</td>\n",
       "      <td>Piggy Car Escape</td>\n",
       "      <td>4.3</td>\n",
       "      <td>Angry Birds™</td>\n",
       "      <td>4.1</td>\n",
       "      <td>US</td>\n",
       "      <td>6.0</td>\n",
       "      <td>12.0</td>\n",
       "      <td>9.0</td>\n",
       "      <td>0.175541</td>\n",
       "    </tr>\n",
       "    <tr>\n",
       "      <th>3</th>\n",
       "      <td>12-99</td>\n",
       "      <td>99.99</td>\n",
       "      <td>23.0</td>\n",
       "      <td>1032.0</td>\n",
       "      <td>3.6</td>\n",
       "      <td>Explore the architecture of the United States ...</td>\n",
       "      <td>21030.0</td>\n",
       "      <td>Discover the architectural secrets of the icon...</td>\n",
       "      <td>3</td>\n",
       "      <td>United States Capitol Building</td>\n",
       "      <td>4.6</td>\n",
       "      <td>Architecture</td>\n",
       "      <td>4.3</td>\n",
       "      <td>US</td>\n",
       "      <td>12.0</td>\n",
       "      <td>99.0</td>\n",
       "      <td>55.5</td>\n",
       "      <td>0.096890</td>\n",
       "    </tr>\n",
       "    <tr>\n",
       "      <th>4</th>\n",
       "      <td>12-99</td>\n",
       "      <td>79.99</td>\n",
       "      <td>14.0</td>\n",
       "      <td>744.0</td>\n",
       "      <td>3.2</td>\n",
       "      <td>Recreate the Solomon R. Guggenheim Museum® wit...</td>\n",
       "      <td>21035.0</td>\n",
       "      <td>Discover the architectural secrets of Frank Ll...</td>\n",
       "      <td>4</td>\n",
       "      <td>Solomon R. Guggenheim Museum®</td>\n",
       "      <td>4.6</td>\n",
       "      <td>Architecture</td>\n",
       "      <td>4.1</td>\n",
       "      <td>US</td>\n",
       "      <td>12.0</td>\n",
       "      <td>99.0</td>\n",
       "      <td>55.5</td>\n",
       "      <td>0.107513</td>\n",
       "    </tr>\n",
       "  </tbody>\n",
       "</table>\n",
       "</div>"
      ],
      "text/plain": [
       "    ages  list_price  num_reviews  piece_count  play_star_rating  \\\n",
       "0   6-12       29.99          2.0        277.0               4.0   \n",
       "1   6-12       19.99          2.0        168.0               4.0   \n",
       "2   6-12       12.99         11.0         74.0               4.3   \n",
       "3  12-99       99.99         23.0       1032.0               3.6   \n",
       "4  12-99       79.99         14.0        744.0               3.2   \n",
       "\n",
       "                                           prod_desc  prod_id  \\\n",
       "0  Catapult into action and take back the eggs fr...  75823.0   \n",
       "1  Launch a flying attack and rescue the eggs fro...  75822.0   \n",
       "2  Chase the piggy with lightning-fast Chuck and ...  75821.0   \n",
       "3  Explore the architecture of the United States ...  21030.0   \n",
       "4  Recreate the Solomon R. Guggenheim Museum® wit...  21035.0   \n",
       "\n",
       "                                      prod_long_desc  review_difficulty  \\\n",
       "0  Use the staircase catapult to launch Red into ...                  3   \n",
       "1  Pilot Pig has taken off from Bird Island with ...                  2   \n",
       "2  Pitch speedy bird Chuck against the Piggy Car....                  2   \n",
       "3  Discover the architectural secrets of the icon...                  3   \n",
       "4  Discover the architectural secrets of Frank Ll...                  4   \n",
       "\n",
       "                         set_name  star_rating    theme_name  val_star_rating  \\\n",
       "0           Bird Island Egg Heist          4.5  Angry Birds™              4.0   \n",
       "1              Piggy Plane Attack          5.0  Angry Birds™              4.0   \n",
       "2                Piggy Car Escape          4.3  Angry Birds™              4.1   \n",
       "3  United States Capitol Building          4.6  Architecture              4.3   \n",
       "4   Solomon R. Guggenheim Museum®          4.6  Architecture              4.1   \n",
       "\n",
       "  country  min_age  max_age  avg_age  price_per_piece  \n",
       "0      US      6.0     12.0      9.0         0.108267  \n",
       "1      US      6.0     12.0      9.0         0.118988  \n",
       "2      US      6.0     12.0      9.0         0.175541  \n",
       "3      US     12.0     99.0     55.5         0.096890  \n",
       "4      US     12.0     99.0     55.5         0.107513  "
      ]
     },
     "execution_count": 4,
     "metadata": {},
     "output_type": "execute_result"
    }
   ],
   "source": [
    "US_data.head()"
   ]
  },
  {
   "cell_type": "code",
   "execution_count": 5,
   "id": "06c9a1d5",
   "metadata": {},
   "outputs": [],
   "source": [
    "US_data = US_data.drop(columns=['ages', 'prod_desc', 'prod_long_desc', 'set_name'])"
   ]
  },
  {
   "cell_type": "code",
   "execution_count": 6,
   "id": "f3810aa7",
   "metadata": {},
   "outputs": [],
   "source": [
    " US_data = pd.get_dummies(US_data, columns=['theme_name', 'country' ], drop_first=False)"
   ]
  },
  {
   "cell_type": "code",
   "execution_count": 7,
   "id": "bbd1e6b5",
   "metadata": {},
   "outputs": [],
   "source": [
    "from sklearn.model_selection import train_test_split"
   ]
  },
  {
   "cell_type": "code",
   "execution_count": 8,
   "id": "3a8c589c",
   "metadata": {},
   "outputs": [],
   "source": [
    "X= US_data.drop(columns=['price_per_piece','prod_id', 'max_age', 'list_price'], axis=1)\n",
    "\n",
    "y = US_data['price_per_piece']"
   ]
  },
  {
   "cell_type": "code",
   "execution_count": 9,
   "id": "5a6244f0",
   "metadata": {},
   "outputs": [
    {
     "data": {
      "text/html": [
       "<div>\n",
       "<style scoped>\n",
       "    .dataframe tbody tr th:only-of-type {\n",
       "        vertical-align: middle;\n",
       "    }\n",
       "\n",
       "    .dataframe tbody tr th {\n",
       "        vertical-align: top;\n",
       "    }\n",
       "\n",
       "    .dataframe thead th {\n",
       "        text-align: right;\n",
       "    }\n",
       "</style>\n",
       "<table border=\"1\" class=\"dataframe\">\n",
       "  <thead>\n",
       "    <tr style=\"text-align: right;\">\n",
       "      <th></th>\n",
       "      <th>num_reviews</th>\n",
       "      <th>piece_count</th>\n",
       "      <th>play_star_rating</th>\n",
       "      <th>review_difficulty</th>\n",
       "      <th>star_rating</th>\n",
       "      <th>val_star_rating</th>\n",
       "      <th>min_age</th>\n",
       "      <th>avg_age</th>\n",
       "      <th>theme_name_Angry Birds™</th>\n",
       "      <th>theme_name_Architecture</th>\n",
       "      <th>...</th>\n",
       "      <th>theme_name_NINJAGO®</th>\n",
       "      <th>theme_name_Pteranodon Chase</th>\n",
       "      <th>theme_name_Speed Champions</th>\n",
       "      <th>theme_name_Star Wars™</th>\n",
       "      <th>theme_name_Stygimoloch Breakout</th>\n",
       "      <th>theme_name_THE LEGO® BATMAN MOVIE</th>\n",
       "      <th>theme_name_THE LEGO® NINJAGO® MOVIE™</th>\n",
       "      <th>theme_name_Technic</th>\n",
       "      <th>country_CA</th>\n",
       "      <th>country_US</th>\n",
       "    </tr>\n",
       "  </thead>\n",
       "  <tbody>\n",
       "    <tr>\n",
       "      <th>0</th>\n",
       "      <td>2.0</td>\n",
       "      <td>277.0</td>\n",
       "      <td>4.0</td>\n",
       "      <td>3</td>\n",
       "      <td>4.5</td>\n",
       "      <td>4.0</td>\n",
       "      <td>6.0</td>\n",
       "      <td>9.0</td>\n",
       "      <td>1</td>\n",
       "      <td>0</td>\n",
       "      <td>...</td>\n",
       "      <td>0</td>\n",
       "      <td>0</td>\n",
       "      <td>0</td>\n",
       "      <td>0</td>\n",
       "      <td>0</td>\n",
       "      <td>0</td>\n",
       "      <td>0</td>\n",
       "      <td>0</td>\n",
       "      <td>0</td>\n",
       "      <td>1</td>\n",
       "    </tr>\n",
       "    <tr>\n",
       "      <th>1</th>\n",
       "      <td>2.0</td>\n",
       "      <td>168.0</td>\n",
       "      <td>4.0</td>\n",
       "      <td>2</td>\n",
       "      <td>5.0</td>\n",
       "      <td>4.0</td>\n",
       "      <td>6.0</td>\n",
       "      <td>9.0</td>\n",
       "      <td>1</td>\n",
       "      <td>0</td>\n",
       "      <td>...</td>\n",
       "      <td>0</td>\n",
       "      <td>0</td>\n",
       "      <td>0</td>\n",
       "      <td>0</td>\n",
       "      <td>0</td>\n",
       "      <td>0</td>\n",
       "      <td>0</td>\n",
       "      <td>0</td>\n",
       "      <td>0</td>\n",
       "      <td>1</td>\n",
       "    </tr>\n",
       "    <tr>\n",
       "      <th>2</th>\n",
       "      <td>11.0</td>\n",
       "      <td>74.0</td>\n",
       "      <td>4.3</td>\n",
       "      <td>2</td>\n",
       "      <td>4.3</td>\n",
       "      <td>4.1</td>\n",
       "      <td>6.0</td>\n",
       "      <td>9.0</td>\n",
       "      <td>1</td>\n",
       "      <td>0</td>\n",
       "      <td>...</td>\n",
       "      <td>0</td>\n",
       "      <td>0</td>\n",
       "      <td>0</td>\n",
       "      <td>0</td>\n",
       "      <td>0</td>\n",
       "      <td>0</td>\n",
       "      <td>0</td>\n",
       "      <td>0</td>\n",
       "      <td>0</td>\n",
       "      <td>1</td>\n",
       "    </tr>\n",
       "    <tr>\n",
       "      <th>3</th>\n",
       "      <td>23.0</td>\n",
       "      <td>1032.0</td>\n",
       "      <td>3.6</td>\n",
       "      <td>3</td>\n",
       "      <td>4.6</td>\n",
       "      <td>4.3</td>\n",
       "      <td>12.0</td>\n",
       "      <td>55.5</td>\n",
       "      <td>0</td>\n",
       "      <td>1</td>\n",
       "      <td>...</td>\n",
       "      <td>0</td>\n",
       "      <td>0</td>\n",
       "      <td>0</td>\n",
       "      <td>0</td>\n",
       "      <td>0</td>\n",
       "      <td>0</td>\n",
       "      <td>0</td>\n",
       "      <td>0</td>\n",
       "      <td>0</td>\n",
       "      <td>1</td>\n",
       "    </tr>\n",
       "    <tr>\n",
       "      <th>4</th>\n",
       "      <td>14.0</td>\n",
       "      <td>744.0</td>\n",
       "      <td>3.2</td>\n",
       "      <td>4</td>\n",
       "      <td>4.6</td>\n",
       "      <td>4.1</td>\n",
       "      <td>12.0</td>\n",
       "      <td>55.5</td>\n",
       "      <td>0</td>\n",
       "      <td>1</td>\n",
       "      <td>...</td>\n",
       "      <td>0</td>\n",
       "      <td>0</td>\n",
       "      <td>0</td>\n",
       "      <td>0</td>\n",
       "      <td>0</td>\n",
       "      <td>0</td>\n",
       "      <td>0</td>\n",
       "      <td>0</td>\n",
       "      <td>0</td>\n",
       "      <td>1</td>\n",
       "    </tr>\n",
       "    <tr>\n",
       "      <th>...</th>\n",
       "      <td>...</td>\n",
       "      <td>...</td>\n",
       "      <td>...</td>\n",
       "      <td>...</td>\n",
       "      <td>...</td>\n",
       "      <td>...</td>\n",
       "      <td>...</td>\n",
       "      <td>...</td>\n",
       "      <td>...</td>\n",
       "      <td>...</td>\n",
       "      <td>...</td>\n",
       "      <td>...</td>\n",
       "      <td>...</td>\n",
       "      <td>...</td>\n",
       "      <td>...</td>\n",
       "      <td>...</td>\n",
       "      <td>...</td>\n",
       "      <td>...</td>\n",
       "      <td>...</td>\n",
       "      <td>...</td>\n",
       "      <td>...</td>\n",
       "    </tr>\n",
       "    <tr>\n",
       "      <th>2293</th>\n",
       "      <td>1.0</td>\n",
       "      <td>48.0</td>\n",
       "      <td>5.0</td>\n",
       "      <td>1</td>\n",
       "      <td>5.0</td>\n",
       "      <td>5.0</td>\n",
       "      <td>6.0</td>\n",
       "      <td>10.0</td>\n",
       "      <td>0</td>\n",
       "      <td>0</td>\n",
       "      <td>...</td>\n",
       "      <td>0</td>\n",
       "      <td>0</td>\n",
       "      <td>0</td>\n",
       "      <td>0</td>\n",
       "      <td>0</td>\n",
       "      <td>0</td>\n",
       "      <td>1</td>\n",
       "      <td>0</td>\n",
       "      <td>1</td>\n",
       "      <td>0</td>\n",
       "    </tr>\n",
       "    <tr>\n",
       "      <th>2294</th>\n",
       "      <td>11.0</td>\n",
       "      <td>109.0</td>\n",
       "      <td>4.5</td>\n",
       "      <td>2</td>\n",
       "      <td>4.7</td>\n",
       "      <td>4.8</td>\n",
       "      <td>6.0</td>\n",
       "      <td>10.0</td>\n",
       "      <td>0</td>\n",
       "      <td>0</td>\n",
       "      <td>...</td>\n",
       "      <td>0</td>\n",
       "      <td>0</td>\n",
       "      <td>0</td>\n",
       "      <td>0</td>\n",
       "      <td>0</td>\n",
       "      <td>0</td>\n",
       "      <td>1</td>\n",
       "      <td>0</td>\n",
       "      <td>1</td>\n",
       "      <td>0</td>\n",
       "    </tr>\n",
       "    <tr>\n",
       "      <th>2295</th>\n",
       "      <td>7.0</td>\n",
       "      <td>102.0</td>\n",
       "      <td>4.0</td>\n",
       "      <td>2</td>\n",
       "      <td>5.0</td>\n",
       "      <td>4.7</td>\n",
       "      <td>10.0</td>\n",
       "      <td>54.5</td>\n",
       "      <td>0</td>\n",
       "      <td>0</td>\n",
       "      <td>...</td>\n",
       "      <td>0</td>\n",
       "      <td>0</td>\n",
       "      <td>0</td>\n",
       "      <td>0</td>\n",
       "      <td>0</td>\n",
       "      <td>0</td>\n",
       "      <td>0</td>\n",
       "      <td>0</td>\n",
       "      <td>1</td>\n",
       "      <td>0</td>\n",
       "    </tr>\n",
       "    <tr>\n",
       "      <th>2296</th>\n",
       "      <td>5.0</td>\n",
       "      <td>89.0</td>\n",
       "      <td>3.2</td>\n",
       "      <td>1</td>\n",
       "      <td>4.4</td>\n",
       "      <td>4.0</td>\n",
       "      <td>10.0</td>\n",
       "      <td>54.5</td>\n",
       "      <td>0</td>\n",
       "      <td>0</td>\n",
       "      <td>...</td>\n",
       "      <td>0</td>\n",
       "      <td>0</td>\n",
       "      <td>0</td>\n",
       "      <td>0</td>\n",
       "      <td>0</td>\n",
       "      <td>0</td>\n",
       "      <td>0</td>\n",
       "      <td>0</td>\n",
       "      <td>1</td>\n",
       "      <td>0</td>\n",
       "    </tr>\n",
       "    <tr>\n",
       "      <th>2297</th>\n",
       "      <td>22.0</td>\n",
       "      <td>8.0</td>\n",
       "      <td>4.3</td>\n",
       "      <td>1</td>\n",
       "      <td>4.3</td>\n",
       "      <td>4.1</td>\n",
       "      <td>5.0</td>\n",
       "      <td>52.0</td>\n",
       "      <td>0</td>\n",
       "      <td>0</td>\n",
       "      <td>...</td>\n",
       "      <td>0</td>\n",
       "      <td>0</td>\n",
       "      <td>0</td>\n",
       "      <td>0</td>\n",
       "      <td>0</td>\n",
       "      <td>0</td>\n",
       "      <td>0</td>\n",
       "      <td>0</td>\n",
       "      <td>1</td>\n",
       "      <td>0</td>\n",
       "    </tr>\n",
       "  </tbody>\n",
       "</table>\n",
       "<p>1137 rows × 43 columns</p>\n",
       "</div>"
      ],
      "text/plain": [
       "      num_reviews  piece_count  play_star_rating  review_difficulty  \\\n",
       "0             2.0        277.0               4.0                  3   \n",
       "1             2.0        168.0               4.0                  2   \n",
       "2            11.0         74.0               4.3                  2   \n",
       "3            23.0       1032.0               3.6                  3   \n",
       "4            14.0        744.0               3.2                  4   \n",
       "...           ...          ...               ...                ...   \n",
       "2293          1.0         48.0               5.0                  1   \n",
       "2294         11.0        109.0               4.5                  2   \n",
       "2295          7.0        102.0               4.0                  2   \n",
       "2296          5.0         89.0               3.2                  1   \n",
       "2297         22.0          8.0               4.3                  1   \n",
       "\n",
       "      star_rating  val_star_rating  min_age  avg_age  theme_name_Angry Birds™  \\\n",
       "0             4.5              4.0      6.0      9.0                        1   \n",
       "1             5.0              4.0      6.0      9.0                        1   \n",
       "2             4.3              4.1      6.0      9.0                        1   \n",
       "3             4.6              4.3     12.0     55.5                        0   \n",
       "4             4.6              4.1     12.0     55.5                        0   \n",
       "...           ...              ...      ...      ...                      ...   \n",
       "2293          5.0              5.0      6.0     10.0                        0   \n",
       "2294          4.7              4.8      6.0     10.0                        0   \n",
       "2295          5.0              4.7     10.0     54.5                        0   \n",
       "2296          4.4              4.0     10.0     54.5                        0   \n",
       "2297          4.3              4.1      5.0     52.0                        0   \n",
       "\n",
       "      theme_name_Architecture  ...  theme_name_NINJAGO®  \\\n",
       "0                           0  ...                    0   \n",
       "1                           0  ...                    0   \n",
       "2                           0  ...                    0   \n",
       "3                           1  ...                    0   \n",
       "4                           1  ...                    0   \n",
       "...                       ...  ...                  ...   \n",
       "2293                        0  ...                    0   \n",
       "2294                        0  ...                    0   \n",
       "2295                        0  ...                    0   \n",
       "2296                        0  ...                    0   \n",
       "2297                        0  ...                    0   \n",
       "\n",
       "      theme_name_Pteranodon Chase  theme_name_Speed Champions  \\\n",
       "0                               0                           0   \n",
       "1                               0                           0   \n",
       "2                               0                           0   \n",
       "3                               0                           0   \n",
       "4                               0                           0   \n",
       "...                           ...                         ...   \n",
       "2293                            0                           0   \n",
       "2294                            0                           0   \n",
       "2295                            0                           0   \n",
       "2296                            0                           0   \n",
       "2297                            0                           0   \n",
       "\n",
       "      theme_name_Star Wars™  theme_name_Stygimoloch Breakout  \\\n",
       "0                         0                                0   \n",
       "1                         0                                0   \n",
       "2                         0                                0   \n",
       "3                         0                                0   \n",
       "4                         0                                0   \n",
       "...                     ...                              ...   \n",
       "2293                      0                                0   \n",
       "2294                      0                                0   \n",
       "2295                      0                                0   \n",
       "2296                      0                                0   \n",
       "2297                      0                                0   \n",
       "\n",
       "      theme_name_THE LEGO® BATMAN MOVIE  theme_name_THE LEGO® NINJAGO® MOVIE™  \\\n",
       "0                                     0                                     0   \n",
       "1                                     0                                     0   \n",
       "2                                     0                                     0   \n",
       "3                                     0                                     0   \n",
       "4                                     0                                     0   \n",
       "...                                 ...                                   ...   \n",
       "2293                                  0                                     1   \n",
       "2294                                  0                                     1   \n",
       "2295                                  0                                     0   \n",
       "2296                                  0                                     0   \n",
       "2297                                  0                                     0   \n",
       "\n",
       "      theme_name_Technic  country_CA  country_US  \n",
       "0                      0           0           1  \n",
       "1                      0           0           1  \n",
       "2                      0           0           1  \n",
       "3                      0           0           1  \n",
       "4                      0           0           1  \n",
       "...                  ...         ...         ...  \n",
       "2293                   0           1           0  \n",
       "2294                   0           1           0  \n",
       "2295                   0           1           0  \n",
       "2296                   0           1           0  \n",
       "2297                   0           1           0  \n",
       "\n",
       "[1137 rows x 43 columns]"
      ]
     },
     "execution_count": 9,
     "metadata": {},
     "output_type": "execute_result"
    }
   ],
   "source": [
    "X"
   ]
  },
  {
   "cell_type": "code",
   "execution_count": 10,
   "id": "c11c4315",
   "metadata": {},
   "outputs": [
    {
     "data": {
      "text/plain": [
       "0       0.108267\n",
       "1       0.118988\n",
       "2       0.175541\n",
       "3       0.096890\n",
       "4       0.107513\n",
       "          ...   \n",
       "2293    0.211087\n",
       "2294    0.092956\n",
       "2295    0.099335\n",
       "2296    0.113845\n",
       "2297    0.389025\n",
       "Name: price_per_piece, Length: 1137, dtype: float64"
      ]
     },
     "execution_count": 10,
     "metadata": {},
     "output_type": "execute_result"
    }
   ],
   "source": [
    "y"
   ]
  },
  {
   "cell_type": "code",
   "execution_count": 11,
   "id": "f1009031",
   "metadata": {},
   "outputs": [],
   "source": [
    "X_train, X_test, y_train, y_test = train_test_split( X, y, test_size=0.2)"
   ]
  },
  {
   "cell_type": "code",
   "execution_count": 12,
   "id": "e900f223",
   "metadata": {},
   "outputs": [
    {
     "name": "stdout",
     "output_type": "stream",
     "text": [
      "909\n",
      "228\n"
     ]
    }
   ],
   "source": [
    "print(len(X_train))\n",
    "print(len(X_test))"
   ]
  },
  {
   "cell_type": "markdown",
   "id": "c7b78cd4",
   "metadata": {},
   "source": [
    "# Modelling"
   ]
  },
  {
   "cell_type": "code",
   "execution_count": 13,
   "id": "4b618c79",
   "metadata": {},
   "outputs": [],
   "source": [
    "from sklearn.model_selection import cross_val_score\n",
    "\n",
    "from sklearn.preprocessing import MinMaxScaler\n",
    "\n",
    "from sklearn.metrics import accuracy_score"
   ]
  },
  {
   "cell_type": "markdown",
   "id": "386279a3",
   "metadata": {},
   "source": [
    "# Random Forest Regressor"
   ]
  },
  {
   "cell_type": "code",
   "execution_count": 14,
   "id": "ecd103c2",
   "metadata": {},
   "outputs": [],
   "source": [
    "from sklearn.ensemble import RandomForestRegressor\n",
    "\n",
    "from sklearn.metrics import r2_score\n"
   ]
  },
  {
   "cell_type": "code",
   "execution_count": 15,
   "id": "27f60048",
   "metadata": {},
   "outputs": [],
   "source": [
    "rf = RandomForestRegressor()\n",
    "rf.fit(X_train, y_train)\n",
    "y_pred_rf= rf.predict((X_test))"
   ]
  },
  {
   "cell_type": "code",
   "execution_count": 16,
   "id": "9973ea82",
   "metadata": {},
   "outputs": [
    {
     "name": "stdout",
     "output_type": "stream",
     "text": [
      "0.9673929140650508\n"
     ]
    }
   ],
   "source": [
    "r2 = r2_score(y_test, y_pred_rf)\n",
    "print(r2)"
   ]
  },
  {
   "cell_type": "markdown",
   "id": "8fde72e0",
   "metadata": {},
   "source": [
    "r2 was negative prior to removing avg_age, min_age, max_age columns.\n",
    "\"In practice, R2 will be negative whenever your model’s predictions are worse than a constant function that always predicts the mean of the data.\""
   ]
  },
  {
   "cell_type": "code",
   "execution_count": 17,
   "id": "84da5980",
   "metadata": {},
   "outputs": [
    {
     "data": {
      "text/plain": [
       "array([3.30357041e-02, 4.87194999e-01, 1.33843279e-02, 9.18047024e-03,\n",
       "       1.07095042e-02, 2.50113276e-02, 4.23278971e-02, 9.24967524e-02,\n",
       "       2.39678404e-04, 1.38913224e-04, 1.85421643e-03, 1.82114092e-03,\n",
       "       6.04372896e-04, 4.98397363e-04, 3.58498604e-04, 4.77526577e-04,\n",
       "       2.53871561e-03, 9.39847085e-02, 3.43406386e-05, 1.59258854e-03,\n",
       "       7.37595471e-04, 7.71859096e-04, 2.58938776e-05, 2.76812659e-04,\n",
       "       6.16011635e-05, 2.68087508e-02, 2.16744839e-05, 1.81724750e-04,\n",
       "       7.18840808e-02, 4.02538640e-04, 1.24165776e-03, 2.03490691e-02,\n",
       "       8.21653847e-03, 6.96945593e-04, 5.51667002e-05, 8.02261214e-04,\n",
       "       2.65841365e-02, 7.48424673e-04, 1.59248630e-03, 6.66515165e-03,\n",
       "       3.94169458e-03, 5.41213134e-03, 5.03772389e-03])"
      ]
     },
     "execution_count": 17,
     "metadata": {},
     "output_type": "execute_result"
    }
   ],
   "source": [
    "rf.feature_importances_"
   ]
  },
  {
   "cell_type": "code",
   "execution_count": 18,
   "id": "ecca3452",
   "metadata": {},
   "outputs": [
    {
     "data": {
      "text/plain": [
       "Text(0.5, 1.0, 'Features Importance: Random Forest Regressor')"
      ]
     },
     "execution_count": 18,
     "metadata": {},
     "output_type": "execute_result"
    },
    {
     "data": {
      "image/png": "[encoded data removed]",
      "text/plain": [
       "<Figure size 576x1080 with 1 Axes>"
      ]
     },
     "metadata": {
      "needs_background": "light"
     },
     "output_type": "display_data"
    }
   ],
   "source": [
    "plt.figure(figsize=(8,15))\n",
    "\n",
    "plt.barh(X_train.columns, rf.feature_importances_, color='maroon')\n",
    "plt.title('Features Importance: Random Forest Regressor')"
   ]
  },
  {
   "cell_type": "code",
   "execution_count": 19,
   "id": "2a43887c",
   "metadata": {},
   "outputs": [
    {
     "data": {
      "text/plain": [
       "Text(0, 0.5, 'Predicted Values')"
      ]
     },
     "execution_count": 19,
     "metadata": {},
     "output_type": "execute_result"
    },
    {
     "data": {
      "image/png": "[encoded data removed]",
      "text/plain": [
       "<Figure size 432x288 with 1 Axes>"
      ]
     },
     "metadata": {
      "needs_background": "light"
     },
     "output_type": "display_data"
    }
   ],
   "source": [
    "plt.scatter(y_test, y_pred_rf, color='maroon')\n",
    "plt.title('Actual vs Predicted Values. Randorm Forest Regressor. US Data')\n",
    "plt.xlabel(\"Actual Values\")\n",
    "plt.ylabel(\"Predicted Values\")"
   ]
  },
  {
   "cell_type": "code",
   "execution_count": 20,
   "id": "a7b2d261",
   "metadata": {},
   "outputs": [
    {
     "name": "stderr",
     "output_type": "stream",
     "text": [
      "/Users/baytech11/opt/anaconda3/lib/python3.9/site-packages/seaborn/distributions.py:2619: FutureWarning: `distplot` is a deprecated function and will be removed in a future version. Please adapt your code to use either `displot` (a figure-level function with similar flexibility) or `histplot` (an axes-level function for histograms).\n",
      "  warnings.warn(msg, FutureWarning)\n"
     ]
    },
    {
     "data": {
      "image/png": "[encoded data removed]",
      "text/plain": [
       "<Figure size 432x288 with 1 Axes>"
      ]
     },
     "metadata": {
      "needs_background": "light"
     },
     "output_type": "display_data"
    }
   ],
   "source": [
    "sns.distplot((y_test-y_pred_rf), bins=50, color='maroon');"
   ]
  },
  {
   "cell_type": "markdown",
   "id": "0aaa0d90",
   "metadata": {},
   "source": []
  },
  {
   "cell_type": "markdown",
   "id": "bd2589be",
   "metadata": {},
   "source": [
    "# XGBoost Regressor"
   ]
  },
  {
   "cell_type": "code",
   "execution_count": 24,
   "id": "14e4d757",
   "metadata": {},
   "outputs": [],
   "source": [
    "import re\n",
    "import xgboost as xg"
   ]
  },
  {
   "cell_type": "code",
   "execution_count": 25,
   "id": "9e8f824c",
   "metadata": {},
   "outputs": [],
   "source": [
    "from xgboost import XGBRegressor"
   ]
  },
  {
   "cell_type": "code",
   "execution_count": 26,
   "id": "906ee2bd",
   "metadata": {},
   "outputs": [],
   "source": [
    "xgb_model = XGBRegressor()\n",
    "\n",
    "regex = re.compile(r\"\\[|\\]|<\", re.IGNORECASE)\n",
    "X_train.columns = [regex.sub(\"_\", col) if any(x in str(col) for x in set(('[', ']', '<'))) else col for col in X_train.columns.values]"
   ]
  },
  {
   "cell_type": "code",
   "execution_count": 27,
   "id": "7051636c",
   "metadata": {},
   "outputs": [
    {
     "data": {
      "text/plain": [
       "XGBRegressor(base_score=0.5, booster='gbtree', callbacks=None,\n",
       "             colsample_bylevel=1, colsample_bynode=1, colsample_bytree=1,\n",
       "             early_stopping_rounds=None, enable_categorical=False,\n",
       "             eval_metric=None, feature_types=None, gamma=0, gpu_id=-1,\n",
       "             grow_policy='depthwise', importance_type=None,\n",
       "             interaction_constraints='', learning_rate=0.300000012, max_bin=256,\n",
       "             max_cat_threshold=64, max_cat_to_onehot=4, max_delta_step=0,\n",
       "             max_depth=6, max_leaves=0, min_child_weight=1, missing=nan,\n",
       "             monotone_constraints='()', n_estimators=100, n_jobs=0,\n",
       "             num_parallel_tree=1, predictor='auto', random_state=0, ...)"
      ]
     },
     "execution_count": 27,
     "metadata": {},
     "output_type": "execute_result"
    }
   ],
   "source": [
    "xgb_model.fit(X_train, y_train)"
   ]
  },
  {
   "cell_type": "code",
   "execution_count": 28,
   "id": "c586ca3c",
   "metadata": {},
   "outputs": [],
   "source": [
    "xgb_model_predict = xgb_model.predict(X_test)"
   ]
  },
  {
   "cell_type": "code",
   "execution_count": 37,
   "id": "019d85b9",
   "metadata": {},
   "outputs": [
    {
     "data": {
      "text/plain": [
       "Text(0.5, 1.0, 'XGBoost Regressor: Tested versus Predicted Values')"
      ]
     },
     "execution_count": 37,
     "metadata": {},
     "output_type": "execute_result"
    },
    {
     "data": {
      "image/png": "[encoded data removed]",
      "text/plain": [
       "<Figure size 432x288 with 1 Axes>"
      ]
     },
     "metadata": {
      "needs_background": "light"
     },
     "output_type": "display_data"
    }
   ],
   "source": [
    "plt.scatter(y_test, xgb_model_predict, color='maroon')\n",
    "plt.xlabel('Tested Values')\n",
    "plt.ylabel('Predicted Values')\n",
    "plt.title('XGBoost Regressor: Tested versus Predicted Values')"
   ]
  },
  {
   "cell_type": "code",
   "execution_count": 38,
   "id": "23c5744e",
   "metadata": {},
   "outputs": [
    {
     "name": "stderr",
     "output_type": "stream",
     "text": [
      "/Users/baytech11/opt/anaconda3/lib/python3.9/site-packages/seaborn/distributions.py:2619: FutureWarning: `distplot` is a deprecated function and will be removed in a future version. Please adapt your code to use either `displot` (a figure-level function with similar flexibility) or `histplot` (an axes-level function for histograms).\n",
      "  warnings.warn(msg, FutureWarning)\n"
     ]
    },
    {
     "data": {
      "image/png": "[encoded data removed]",
      "text/plain": [
       "<Figure size 432x288 with 1 Axes>"
      ]
     },
     "metadata": {
      "needs_background": "light"
     },
     "output_type": "display_data"
    }
   ],
   "source": [
    "#plotting model to check normalization\n",
    "sns.distplot((y_test-xgb_model_predict), bins=50, color='maroon');"
   ]
  },
  {
   "cell_type": "markdown",
   "id": "82f91656",
   "metadata": {},
   "source": [
    "# Model Evaluation"
   ]
  },
  {
   "cell_type": "code",
   "execution_count": 31,
   "id": "d70ccd6a",
   "metadata": {},
   "outputs": [],
   "source": [
    "from sklearn.ensemble import RandomForestRegressor\n",
    "from sklearn.linear_model import LinearRegression\n",
    "from sklearn.svm import SVR\n",
    "from sklearn.tree import DecisionTreeRegressor\n",
    "from sklearn.neighbors import KNeighborsRegressor\n",
    "from sklearn.neural_network import MLPRegressor\n",
    "\n",
    "from sklearn import model_selection"
   ]
  },
  {
   "cell_type": "code",
   "execution_count": 64,
   "id": "9b6fd59a",
   "metadata": {},
   "outputs": [],
   "source": [
    "models=[]\n",
    "\n",
    "models.append(('RF', RandomForestRegressor()))\n",
    "models.append(('XGB', XGBRegressor()))\n",
    "models.append(('LR', LinearRegression()))\n",
    "models.append(('DT', DecisionTreeRegressor()))\n",
    "models.append(('KN', KNeighborsRegressor()))\n"
   ]
  },
  {
   "cell_type": "code",
   "execution_count": 65,
   "id": "511a6888",
   "metadata": {},
   "outputs": [
    {
     "name": "stdout",
     "output_type": "stream",
     "text": [
      "('RF', '0.8633279905298288, 0.016, 0.128')\n",
      "('XGB', '0.8802070191401683, 0.013, 0.115')\n",
      "('LR', '0.636038488046559, 0.009, 0.095')\n",
      "('DT', '0.8356438448039478, 0.018, 0.135')\n",
      "('KN', '0.5297663075216651, 0.045, 0.213')\n"
     ]
    }
   ],
   "source": [
    "results_r2 = []\n",
    "names = []\n",
    "\n",
    "scoring = 'r2'\n",
    "\n",
    "for name, model in models:\n",
    "    kfold = model_selection.KFold(n_splits = 10, random_state = 30, shuffle = True)\n",
    "    r2_cv = model_selection.cross_val_score(model, X_train, y_train, cv = kfold, scoring = scoring)\n",
    "    results_r2.append(r2_cv)\n",
    "    names.append(name)\n",
    "    r2 = (name),'%s, %.3f, %.3f'% (r2_cv.mean(), r2_cv.var(), r2_cv.std())\n",
    "    print(r2)"
   ]
  },
  {
   "cell_type": "code",
   "execution_count": 66,
   "id": "17aa945e",
   "metadata": {},
   "outputs": [
    {
     "name": "stdout",
     "output_type": "stream",
     "text": [
      "('RF', '-0.0005528012521417008: 0.000, 0.001')\n",
      "('XGB', '-0.00047758286653690006: 0.000, 0.001')\n",
      "('LR', '-0.0013610319603319248: 0.000, 0.001')\n",
      "('DT', '-0.0006162595419126806: 0.000, 0.001')\n",
      "('KN', '-0.0015974749504990642: 0.000, 0.001')\n"
     ]
    }
   ],
   "source": [
    "results_mse = []\n",
    "names = []\n",
    "\n",
    "scoring = 'neg_mean_squared_error'\n",
    "\n",
    "for name, model in models:\n",
    "    kfold = model_selection.KFold(n_splits = 10, random_state = 30, shuffle = True)\n",
    "    mse_cv = model_selection.cross_val_score(model, X_train, y_train, cv = kfold, scoring = scoring)\n",
    "    results_mse.append(mse_cv)\n",
    "    names.append(name)\n",
    "    mse = (name),'%s: %.3f, %.3f'% (mse_cv.mean(), mse_cv.var(), mse_cv.std())\n",
    "    print(mse)"
   ]
  },
  {
   "cell_type": "code",
   "execution_count": 67,
   "id": "ef4c3376",
   "metadata": {},
   "outputs": [
    {
     "name": "stderr",
     "output_type": "stream",
     "text": [
      "/var/folders/2t/wr4klz0s55s9z9fkl4mpqwfr0000gn/T/ipykernel_98202/3127024402.py:6: UserWarning: FixedFormatter should only be used together with FixedLocator\n",
      "  ax.set_xticklabels(names)\n"
     ]
    },
    {
     "data": {
      "image/png": "[encoded data removed]",
      "text/plain": [
       "<Figure size 432x288 with 1 Axes>"
      ]
     },
     "metadata": {
      "needs_background": "light"
     },
     "output_type": "display_data"
    }
   ],
   "source": [
    "#Plotting Results\n",
    "\n",
    "fig = plt.figure()\n",
    "fig.suptitle(\"Model Selection Results on Training Data\")\n",
    "ax = fig.add_subplot(111)\n",
    "ax.set_xticklabels(names)\n",
    "plt.boxplot(results_r2)\n",
    "plt.show()"
   ]
  },
  {
   "cell_type": "code",
   "execution_count": 68,
   "id": "a199dc43",
   "metadata": {},
   "outputs": [
    {
     "name": "stderr",
     "output_type": "stream",
     "text": [
      "/var/folders/2t/wr4klz0s55s9z9fkl4mpqwfr0000gn/T/ipykernel_98202/526562646.py:6: UserWarning: FixedFormatter should only be used together with FixedLocator\n",
      "  ax.set_xticklabels(names)\n"
     ]
    },
    {
     "data": {
      "image/png": "[encoded data removed]",
      "text/plain": [
       "<Figure size 432x288 with 1 Axes>"
      ]
     },
     "metadata": {
      "needs_background": "light"
     },
     "output_type": "display_data"
    }
   ],
   "source": [
    "#Plotting Results\n",
    "\n",
    "fig = plt.figure()\n",
    "fig.suptitle(\"Model Selection Results on Training Data\")\n",
    "ax = fig.add_subplot(111)\n",
    "ax.set_xticklabels(names)\n",
    "plt.boxplot(results_mse)\n",
    "plt.show()"
   ]
  },
  {
   "cell_type": "code",
   "execution_count": null,
   "id": "a0669498",
   "metadata": {},
   "outputs": [],
   "source": []
  }
 ],
 "metadata": {
  "kernelspec": {
   "display_name": "Python 3 (ipykernel)",
   "language": "python",
   "name": "python3"
  },
  "language_info": {
   "codemirror_mode": {
    "name": "ipython",
    "version": 3
   },
   "file_extension": ".py",
   "mimetype": "text/x-python",
   "name": "python",
   "nbconvert_exporter": "python",
   "pygments_lexer": "ipython3",
   "version": "3.9.7"
  }
 },
 "nbformat": 4,
 "nbformat_minor": 5
}
