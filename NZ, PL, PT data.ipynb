{
 "cells": [
  {
   "cell_type": "code",
   "execution_count": 1,
   "id": "0d44358a",
   "metadata": {},
   "outputs": [],
   "source": [
    "import pandas as pd\n",
    "\n",
    "import numpy as np\n",
    "\n",
    "import seaborn as sns\n",
    "\n",
    "import matplotlib.pyplot as plt"
   ]
  },
  {
   "cell_type": "markdown",
   "id": "6315e5de",
   "metadata": {},
   "source": [
    "For the US Data price prediction I have underfitting data, which can be caused due to small number of data. For that I will be exploring New Zealand's lego data, which has the highest amount of entries."
   ]
  },
  {
   "cell_type": "code",
   "execution_count": 2,
   "id": "15b689c1",
   "metadata": {},
   "outputs": [],
   "source": [
    "legoset = pd.read_csv('legoset.csv')"
   ]
  },
  {
   "cell_type": "code",
   "execution_count": 3,
   "id": "36a54b10",
   "metadata": {},
   "outputs": [],
   "source": [
    "topthree_df = legoset[(legoset.country=='NZ') | (legoset.country=='PL') | (legoset.country=='PT') ]"
   ]
  },
  {
   "cell_type": "code",
   "execution_count": 4,
   "id": "312af35e",
   "metadata": {},
   "outputs": [],
   "source": [
    "#removing categoricaldata which will not be used for price prediction:\n",
    "\n",
    "topthree_df = topthree_df.drop(columns=[\"ages\",'prod_desc', 'prod_long_desc', 'set_name'], axis=1)"
   ]
  },
  {
   "cell_type": "code",
   "execution_count": 5,
   "id": "ee193ae0",
   "metadata": {},
   "outputs": [],
   "source": [
    "#getting dummies for categorical data to be used for price prediction\n",
    "\n",
    "topthree_df = pd.get_dummies(topthree_df, columns=['theme_name', 'country' ], drop_first=False)"
   ]
  },
  {
   "cell_type": "code",
   "execution_count": 6,
   "id": "14e873c1",
   "metadata": {},
   "outputs": [
    {
     "data": {
      "text/html": [
       "<div>\n",
       "<style scoped>\n",
       "    .dataframe tbody tr th:only-of-type {\n",
       "        vertical-align: middle;\n",
       "    }\n",
       "\n",
       "    .dataframe tbody tr th {\n",
       "        vertical-align: top;\n",
       "    }\n",
       "\n",
       "    .dataframe thead th {\n",
       "        text-align: right;\n",
       "    }\n",
       "</style>\n",
       "<table border=\"1\" class=\"dataframe\">\n",
       "  <thead>\n",
       "    <tr style=\"text-align: right;\">\n",
       "      <th></th>\n",
       "      <th>list_price</th>\n",
       "      <th>num_reviews</th>\n",
       "      <th>piece_count</th>\n",
       "      <th>play_star_rating</th>\n",
       "      <th>prod_id</th>\n",
       "      <th>review_difficulty</th>\n",
       "      <th>star_rating</th>\n",
       "      <th>val_star_rating</th>\n",
       "      <th>min_age</th>\n",
       "      <th>max_age</th>\n",
       "      <th>...</th>\n",
       "      <th>theme_name_Pteranodon Chase</th>\n",
       "      <th>theme_name_Speed Champions</th>\n",
       "      <th>theme_name_Star Wars™</th>\n",
       "      <th>theme_name_Stygimoloch Breakout</th>\n",
       "      <th>theme_name_THE LEGO® BATMAN MOVIE</th>\n",
       "      <th>theme_name_THE LEGO® NINJAGO® MOVIE™</th>\n",
       "      <th>theme_name_Technic</th>\n",
       "      <th>country_NZ</th>\n",
       "      <th>country_PL</th>\n",
       "      <th>country_PT</th>\n",
       "    </tr>\n",
       "  </thead>\n",
       "  <tbody>\n",
       "    <tr>\n",
       "      <th>8499</th>\n",
       "      <td>127.7929</td>\n",
       "      <td>23.0</td>\n",
       "      <td>1032.0</td>\n",
       "      <td>3.6</td>\n",
       "      <td>21030.0</td>\n",
       "      <td>3</td>\n",
       "      <td>4.6</td>\n",
       "      <td>4.3</td>\n",
       "      <td>12.0</td>\n",
       "      <td>99.0</td>\n",
       "      <td>...</td>\n",
       "      <td>0</td>\n",
       "      <td>0</td>\n",
       "      <td>0</td>\n",
       "      <td>0</td>\n",
       "      <td>0</td>\n",
       "      <td>0</td>\n",
       "      <td>0</td>\n",
       "      <td>1</td>\n",
       "      <td>0</td>\n",
       "      <td>0</td>\n",
       "    </tr>\n",
       "    <tr>\n",
       "      <th>8500</th>\n",
       "      <td>92.2929</td>\n",
       "      <td>14.0</td>\n",
       "      <td>744.0</td>\n",
       "      <td>3.2</td>\n",
       "      <td>21035.0</td>\n",
       "      <td>4</td>\n",
       "      <td>4.6</td>\n",
       "      <td>4.1</td>\n",
       "      <td>12.0</td>\n",
       "      <td>99.0</td>\n",
       "      <td>...</td>\n",
       "      <td>0</td>\n",
       "      <td>0</td>\n",
       "      <td>0</td>\n",
       "      <td>0</td>\n",
       "      <td>0</td>\n",
       "      <td>0</td>\n",
       "      <td>0</td>\n",
       "      <td>1</td>\n",
       "      <td>0</td>\n",
       "      <td>0</td>\n",
       "    </tr>\n",
       "    <tr>\n",
       "      <th>8501</th>\n",
       "      <td>70.9929</td>\n",
       "      <td>7.0</td>\n",
       "      <td>597.0</td>\n",
       "      <td>3.7</td>\n",
       "      <td>21039.0</td>\n",
       "      <td>3</td>\n",
       "      <td>4.9</td>\n",
       "      <td>4.4</td>\n",
       "      <td>12.0</td>\n",
       "      <td>99.0</td>\n",
       "      <td>...</td>\n",
       "      <td>0</td>\n",
       "      <td>0</td>\n",
       "      <td>0</td>\n",
       "      <td>0</td>\n",
       "      <td>0</td>\n",
       "      <td>0</td>\n",
       "      <td>0</td>\n",
       "      <td>1</td>\n",
       "      <td>0</td>\n",
       "      <td>0</td>\n",
       "    </tr>\n",
       "    <tr>\n",
       "      <th>8502</th>\n",
       "      <td>63.8929</td>\n",
       "      <td>24.0</td>\n",
       "      <td>780.0</td>\n",
       "      <td>4.4</td>\n",
       "      <td>21029.0</td>\n",
       "      <td>3</td>\n",
       "      <td>4.7</td>\n",
       "      <td>4.3</td>\n",
       "      <td>12.0</td>\n",
       "      <td>99.0</td>\n",
       "      <td>...</td>\n",
       "      <td>0</td>\n",
       "      <td>0</td>\n",
       "      <td>0</td>\n",
       "      <td>0</td>\n",
       "      <td>0</td>\n",
       "      <td>0</td>\n",
       "      <td>0</td>\n",
       "      <td>1</td>\n",
       "      <td>0</td>\n",
       "      <td>0</td>\n",
       "    </tr>\n",
       "    <tr>\n",
       "      <th>8503</th>\n",
       "      <td>63.8929</td>\n",
       "      <td>37.0</td>\n",
       "      <td>598.0</td>\n",
       "      <td>3.7</td>\n",
       "      <td>21028.0</td>\n",
       "      <td>3</td>\n",
       "      <td>4.2</td>\n",
       "      <td>4.1</td>\n",
       "      <td>12.0</td>\n",
       "      <td>99.0</td>\n",
       "      <td>...</td>\n",
       "      <td>0</td>\n",
       "      <td>0</td>\n",
       "      <td>0</td>\n",
       "      <td>0</td>\n",
       "      <td>0</td>\n",
       "      <td>0</td>\n",
       "      <td>0</td>\n",
       "      <td>1</td>\n",
       "      <td>0</td>\n",
       "      <td>0</td>\n",
       "    </tr>\n",
       "  </tbody>\n",
       "</table>\n",
       "<p>5 rows × 49 columns</p>\n",
       "</div>"
      ],
      "text/plain": [
       "      list_price  num_reviews  piece_count  play_star_rating  prod_id  \\\n",
       "8499    127.7929         23.0       1032.0               3.6  21030.0   \n",
       "8500     92.2929         14.0        744.0               3.2  21035.0   \n",
       "8501     70.9929          7.0        597.0               3.7  21039.0   \n",
       "8502     63.8929         24.0        780.0               4.4  21029.0   \n",
       "8503     63.8929         37.0        598.0               3.7  21028.0   \n",
       "\n",
       "      review_difficulty  star_rating  val_star_rating  min_age  max_age  ...  \\\n",
       "8499                  3          4.6              4.3     12.0     99.0  ...   \n",
       "8500                  4          4.6              4.1     12.0     99.0  ...   \n",
       "8501                  3          4.9              4.4     12.0     99.0  ...   \n",
       "8502                  3          4.7              4.3     12.0     99.0  ...   \n",
       "8503                  3          4.2              4.1     12.0     99.0  ...   \n",
       "\n",
       "      theme_name_Pteranodon Chase  theme_name_Speed Champions  \\\n",
       "8499                            0                           0   \n",
       "8500                            0                           0   \n",
       "8501                            0                           0   \n",
       "8502                            0                           0   \n",
       "8503                            0                           0   \n",
       "\n",
       "      theme_name_Star Wars™  theme_name_Stygimoloch Breakout  \\\n",
       "8499                      0                                0   \n",
       "8500                      0                                0   \n",
       "8501                      0                                0   \n",
       "8502                      0                                0   \n",
       "8503                      0                                0   \n",
       "\n",
       "      theme_name_THE LEGO® BATMAN MOVIE  theme_name_THE LEGO® NINJAGO® MOVIE™  \\\n",
       "8499                                  0                                     0   \n",
       "8500                                  0                                     0   \n",
       "8501                                  0                                     0   \n",
       "8502                                  0                                     0   \n",
       "8503                                  0                                     0   \n",
       "\n",
       "      theme_name_Technic  country_NZ  country_PL  country_PT  \n",
       "8499                   0           1           0           0  \n",
       "8500                   0           1           0           0  \n",
       "8501                   0           1           0           0  \n",
       "8502                   0           1           0           0  \n",
       "8503                   0           1           0           0  \n",
       "\n",
       "[5 rows x 49 columns]"
      ]
     },
     "execution_count": 6,
     "metadata": {},
     "output_type": "execute_result"
    }
   ],
   "source": [
    "topthree_df.head()"
   ]
  },
  {
   "cell_type": "code",
   "execution_count": 7,
   "id": "ed2d2a07",
   "metadata": {},
   "outputs": [
    {
     "name": "stdout",
     "output_type": "stream",
     "text": [
      "<class 'pandas.core.frame.DataFrame'>\n",
      "Int64Index: 1300 entries, 8499 to 9798\n",
      "Data columns (total 49 columns):\n",
      " #   Column                                            Non-Null Count  Dtype  \n",
      "---  ------                                            --------------  -----  \n",
      " 0   list_price                                        1300 non-null   float64\n",
      " 1   num_reviews                                       1300 non-null   float64\n",
      " 2   piece_count                                       1300 non-null   float64\n",
      " 3   play_star_rating                                  1300 non-null   float64\n",
      " 4   prod_id                                           1300 non-null   float64\n",
      " 5   review_difficulty                                 1300 non-null   int64  \n",
      " 6   star_rating                                       1300 non-null   float64\n",
      " 7   val_star_rating                                   1300 non-null   float64\n",
      " 8   min_age                                           1300 non-null   float64\n",
      " 9   max_age                                           1300 non-null   float64\n",
      " 10  avg_age                                           1300 non-null   float64\n",
      " 11  price_per_piece                                   1300 non-null   float64\n",
      " 12  theme_name_Architecture                           1300 non-null   uint8  \n",
      " 13  theme_name_BOOST                                  1300 non-null   uint8  \n",
      " 14  theme_name_BrickHeadz                             1300 non-null   uint8  \n",
      " 15  theme_name_Carnotaurus Gyrosphere Escape          1300 non-null   uint8  \n",
      " 16  theme_name_City                                   1300 non-null   uint8  \n",
      " 17  theme_name_Classic                                1300 non-null   uint8  \n",
      " 18  theme_name_Creator 3-in-1                         1300 non-null   uint8  \n",
      " 19  theme_name_Creator Expert                         1300 non-null   uint8  \n",
      " 20  theme_name_DC Comics™ Super Heroes                1300 non-null   uint8  \n",
      " 21  theme_name_DIMENSIONS™                            1300 non-null   uint8  \n",
      " 22  theme_name_DUPLO®                                 1300 non-null   uint8  \n",
      " 23  theme_name_Dilophosaurus Outpost Attack           1300 non-null   uint8  \n",
      " 24  theme_name_Disney™                                1300 non-null   uint8  \n",
      " 25  theme_name_Elves                                  1300 non-null   uint8  \n",
      " 26  theme_name_Friends                                1300 non-null   uint8  \n",
      " 27  theme_name_Ghostbusters™                          1300 non-null   uint8  \n",
      " 28  theme_name_Ideas                                  1300 non-null   uint8  \n",
      " 29  theme_name_Indoraptor Rampage at Lockwood Estate  1300 non-null   uint8  \n",
      " 30  theme_name_Juniors                                1300 non-null   uint8  \n",
      " 31  theme_name_Jurassic Park Velociraptor Chase       1300 non-null   uint8  \n",
      " 32  theme_name_MINDSTORMS®                            1300 non-null   uint8  \n",
      " 33  theme_name_Marvel Super Heroes                    1300 non-null   uint8  \n",
      " 34  theme_name_Minecraft™                             1300 non-null   uint8  \n",
      " 35  theme_name_Minifigures                            1300 non-null   uint8  \n",
      " 36  theme_name_NEXO KNIGHTS™                          1300 non-null   uint8  \n",
      " 37  theme_name_NINJAGO®                               1300 non-null   uint8  \n",
      " 38  theme_name_Power Functions                        1300 non-null   uint8  \n",
      " 39  theme_name_Pteranodon Chase                       1300 non-null   uint8  \n",
      " 40  theme_name_Speed Champions                        1300 non-null   uint8  \n",
      " 41  theme_name_Star Wars™                             1300 non-null   uint8  \n",
      " 42  theme_name_Stygimoloch Breakout                   1300 non-null   uint8  \n",
      " 43  theme_name_THE LEGO® BATMAN MOVIE                 1300 non-null   uint8  \n",
      " 44  theme_name_THE LEGO® NINJAGO® MOVIE™              1300 non-null   uint8  \n",
      " 45  theme_name_Technic                                1300 non-null   uint8  \n",
      " 46  country_NZ                                        1300 non-null   uint8  \n",
      " 47  country_PL                                        1300 non-null   uint8  \n",
      " 48  country_PT                                        1300 non-null   uint8  \n",
      "dtypes: float64(11), int64(1), uint8(37)\n",
      "memory usage: 179.0 KB\n"
     ]
    }
   ],
   "source": [
    "topthree_df.info()"
   ]
  },
  {
   "cell_type": "markdown",
   "id": "aa4f9c7d",
   "metadata": {},
   "source": [
    "There are 1300 entires of data, compared to 671 entries of US data."
   ]
  },
  {
   "cell_type": "code",
   "execution_count": 8,
   "id": "495ac880",
   "metadata": {},
   "outputs": [],
   "source": [
    "from sklearn.model_selection import train_test_split"
   ]
  },
  {
   "cell_type": "code",
   "execution_count": 9,
   "id": "d04cdda6",
   "metadata": {},
   "outputs": [],
   "source": [
    "#splitting data to training and testing data sets:\n",
    "\n",
    "X= topthree_df.drop(columns=['price_per_piece','prod_id', 'max_age', 'piece_count', 'list_price'], axis=1)\n",
    "\n",
    "y = topthree_df['price_per_piece']"
   ]
  },
  {
   "cell_type": "code",
   "execution_count": 10,
   "id": "33ba21ae",
   "metadata": {},
   "outputs": [],
   "source": [
    "# test data contains 20%\n",
    "\n",
    "X_train, X_test, y_train, y_test = train_test_split( X, y, test_size=0.2)"
   ]
  },
  {
   "cell_type": "code",
   "execution_count": 11,
   "id": "f9d95e6e",
   "metadata": {},
   "outputs": [
    {
     "name": "stdout",
     "output_type": "stream",
     "text": [
      "1040\n",
      "260\n"
     ]
    }
   ],
   "source": [
    "print(len(X_train))\n",
    "print(len(X_test))"
   ]
  },
  {
   "cell_type": "markdown",
   "id": "fcd632a2",
   "metadata": {},
   "source": [
    "# Modelling"
   ]
  },
  {
   "cell_type": "code",
   "execution_count": 12,
   "id": "cdcb379c",
   "metadata": {},
   "outputs": [],
   "source": [
    "from sklearn.model_selection import cross_val_score\n",
    "\n",
    "from sklearn.preprocessing import MinMaxScaler\n",
    "\n",
    "from sklearn.metrics import accuracy_score"
   ]
  },
  {
   "cell_type": "markdown",
   "id": "b7016c7b",
   "metadata": {},
   "source": [
    "In order to compare results, model selected is the same as for US data. First, Random Forest Regressor."
   ]
  },
  {
   "cell_type": "code",
   "execution_count": 13,
   "id": "bb379ab0",
   "metadata": {},
   "outputs": [],
   "source": [
    "from sklearn.ensemble import RandomForestRegressor\n",
    "\n",
    "from sklearn.metrics import r2_score"
   ]
  },
  {
   "cell_type": "code",
   "execution_count": 14,
   "id": "6c44cabf",
   "metadata": {},
   "outputs": [],
   "source": [
    "rf = RandomForestRegressor()\n",
    "rf.fit(X_train, y_train)\n",
    "y_pred_rf= rf.predict((X_test))"
   ]
  },
  {
   "cell_type": "code",
   "execution_count": 15,
   "id": "f670c8b2",
   "metadata": {},
   "outputs": [
    {
     "name": "stdout",
     "output_type": "stream",
     "text": [
      "0.9375482782268874\n"
     ]
    }
   ],
   "source": [
    "r2 = r2_score(y_test, y_pred_rf)\n",
    "print(r2)"
   ]
  },
  {
   "cell_type": "code",
   "execution_count": 16,
   "id": "08ffdc92",
   "metadata": {},
   "outputs": [
    {
     "data": {
      "text/plain": [
       "array([2.04889936e-01, 9.88159133e-03, 2.01792851e-01, 1.49726526e-02,\n",
       "       1.29774696e-01, 3.97416906e-02, 6.83845352e-02, 4.86284953e-06,\n",
       "       4.46745317e-06, 1.13085216e-05, 5.88543410e-06, 2.90922085e-04,\n",
       "       9.61324389e-06, 8.99141433e-05, 4.27417221e-05, 2.54156587e-05,\n",
       "       4.39499375e-03, 6.30292802e-02, 2.70199981e-05, 3.00374395e-05,\n",
       "       1.50909977e-05, 5.44153735e-05, 1.32077597e-06, 1.01736308e-05,\n",
       "       6.14720652e-06, 1.09746665e-03, 1.44148806e-05, 4.53387270e-03,\n",
       "       5.12783945e-05, 9.96537774e-05, 5.03699251e-03, 7.44254028e-06,\n",
       "       1.39508121e-05, 2.40038259e-01, 1.02031681e-04, 2.01993541e-05,\n",
       "       7.28296993e-04, 6.96458222e-05, 6.79511701e-05, 5.53500521e-05,\n",
       "       6.21732254e-05, 6.64429910e-04, 1.84156200e-03, 8.00346468e-03])"
      ]
     },
     "execution_count": 16,
     "metadata": {},
     "output_type": "execute_result"
    }
   ],
   "source": [
    "# checking which features impact price prediction the most\n",
    "rf.feature_importances_"
   ]
  },
  {
   "cell_type": "code",
   "execution_count": 17,
   "id": "e7d33e4b",
   "metadata": {},
   "outputs": [
    {
     "data": {
      "text/plain": [
       "Text(0.5, 1.0, 'Features Importance: Random Forest Regressor')"
      ]
     },
     "execution_count": 17,
     "metadata": {},
     "output_type": "execute_result"
    },
    {
     "data": {
      "image/png": "[encoded data removed]",
      "text/plain": [
       "<Figure size 576x1080 with 1 Axes>"
      ]
     },
     "metadata": {
      "needs_background": "light"
     },
     "output_type": "display_data"
    }
   ],
   "source": [
    "plt.figure(figsize=(8,15))\n",
    "\n",
    "plt.barh(X_train.columns, rf.feature_importances_, color='green')\n",
    "plt.title('Features Importance: Random Forest Regressor')"
   ]
  },
  {
   "cell_type": "code",
   "execution_count": 18,
   "id": "a6bfb56e",
   "metadata": {},
   "outputs": [
    {
     "data": {
      "text/plain": [
       "Text(0, 0.5, 'Predicted Values')"
      ]
     },
     "execution_count": 18,
     "metadata": {},
     "output_type": "execute_result"
    },
    {
     "data": {
      "image/png": "[encoded data removed]",
      "text/plain": [
       "<Figure size 432x288 with 1 Axes>"
      ]
     },
     "metadata": {
      "needs_background": "light"
     },
     "output_type": "display_data"
    }
   ],
   "source": [
    "plt.scatter(y_test, y_pred_rf, color='green')\n",
    "plt.title('Actual vs Predicted Values. Randorm Forest Regressor. US Data')\n",
    "plt.xlabel(\"Actual Values\")\n",
    "plt.ylabel(\"Predicted Values\")"
   ]
  },
  {
   "cell_type": "markdown",
   "id": "5dd84386",
   "metadata": {},
   "source": [
    "The predicted and actual values much better displayed than in US only data. r2 score is 0.97 compared to US data score of 0.13."
   ]
  },
  {
   "cell_type": "code",
   "execution_count": 19,
   "id": "a7cbaeda",
   "metadata": {},
   "outputs": [
    {
     "name": "stderr",
     "output_type": "stream",
     "text": [
      "/Users/baytech11/opt/anaconda3/lib/python3.9/site-packages/seaborn/distributions.py:2619: FutureWarning: `distplot` is a deprecated function and will be removed in a future version. Please adapt your code to use either `displot` (a figure-level function with similar flexibility) or `histplot` (an axes-level function for histograms).\n",
      "  warnings.warn(msg, FutureWarning)\n"
     ]
    },
    {
     "data": {
      "text/plain": [
       "Text(0.5, 1.0, 'Price Prediction Distribution')"
      ]
     },
     "execution_count": 19,
     "metadata": {},
     "output_type": "execute_result"
    },
    {
     "data": {
      "image/png": "[encoded data removed]",
      "text/plain": [
       "<Figure size 432x288 with 1 Axes>"
      ]
     },
     "metadata": {
      "needs_background": "light"
     },
     "output_type": "display_data"
    }
   ],
   "source": [
    "sns.distplot((y_test-y_pred_rf), bins=50, color='green');\n",
    "plt.title('Price Prediction Distribution')"
   ]
  },
  {
   "cell_type": "code",
   "execution_count": null,
   "id": "83a53878",
   "metadata": {},
   "outputs": [],
   "source": []
  }
 ],
 "metadata": {
  "kernelspec": {
   "display_name": "Python 3 (ipykernel)",
   "language": "python",
   "name": "python3"
  },
  "language_info": {
   "codemirror_mode": {
    "name": "ipython",
    "version": 3
   },
   "file_extension": ".py",
   "mimetype": "text/x-python",
   "name": "python",
   "nbconvert_exporter": "python",
   "pygments_lexer": "ipython3",
   "version": "3.9.7"
  }
 },
 "nbformat": 4,
 "nbformat_minor": 5
}
